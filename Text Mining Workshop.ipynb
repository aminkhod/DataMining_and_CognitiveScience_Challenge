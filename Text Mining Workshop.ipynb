{
 "cells": [
  {
   "cell_type": "markdown",
   "metadata": {},
   "source": [
    "# پردازش متن"
   ]
  },
  {
   "cell_type": "markdown",
   "metadata": {},
   "source": [
    "## ابزارهای پردازش متن"
   ]
  },
  {
   "cell_type": "markdown",
   "metadata": {},
   "source": [
    "## روش‌ها وابزارهای جاساز"
   ]
  },
  {
   "cell_type": "markdown",
   "metadata": {},
   "source": [
    "Corpus =  (داده متنی بزرگ)پیکره"
   ]
  },
  {
   "cell_type": "markdown",
   "metadata": {},
   "source": [
    "بزرگی داده کافی نیست باید داده پوشا باشد یعنی بتواند فضای مسئله را خوب پوشش دهد."
   ]
  },
  {
   "cell_type": "markdown",
   "metadata": {},
   "source": [
    "Normalizer:\n",
    "    "
   ]
  },
  {
   "cell_type": "markdown",
   "metadata": {},
   "source": [
    "tokenizer"
   ]
  },
  {
   "cell_type": "markdown",
   "metadata": {},
   "source": [
    "embedding"
   ]
  },
  {
   "cell_type": "code",
   "execution_count": null,
   "metadata": {},
   "outputs": [],
   "source": []
  }
 ],
 "metadata": {
  "kernelspec": {
   "display_name": "Python 3",
   "language": "python",
   "name": "python3"
  },
  "language_info": {
   "codemirror_mode": {
    "name": "ipython",
    "version": 3
   },
   "file_extension": ".py",
   "mimetype": "text/x-python",
   "name": "python",
   "nbconvert_exporter": "python",
   "pygments_lexer": "ipython3",
   "version": "3.6.7"
  }
 },
 "nbformat": 4,
 "nbformat_minor": 2
}
